{
 "cells": [
  {
   "cell_type": "code",
   "execution_count": 1,
   "metadata": {},
   "outputs": [],
   "source": [
    "import pandas as pd\n",
    "import numpy as np\n",
    "import matplotlib\n",
    "from tqdm import tqdm \n",
    "\n",
    "import matplotlib\n",
    "import matplotlib.pyplot as plt\n",
    "import seaborn as sns\n",
    "from sklearn.model_selection import train_test_split\n",
    "from sklearn.linear_model import LogisticRegression\n",
    "from sklearn.impute import SimpleImputer\n",
    "from sklearn.pipeline import Pipeline\n",
    "\n",
    "from sklearn.model_selection import KFold\n",
    "from sklearn.model_selection import cross_validate\n",
    "from sklearn.model_selection import GridSearchCV\n",
    "\n",
    "from sklearn.base import BaseEstimator, TransformerMixin\n",
    "from sklearn.pipeline import FeatureUnion, make_pipeline\n",
    "from sklearn.preprocessing import StandardScaler, OneHotEncoder\n",
    "import catboost as catb\n",
    "\n",
    "\n",
    "from sklearn.metrics import precision_recall_curve, roc_curve, auc, f1_score, make_scorer, accuracy_score\n",
    "\n",
    "import dask.dataframe as dd"
   ]
  },
  {
   "cell_type": "code",
   "execution_count": 2,
   "metadata": {},
   "outputs": [],
   "source": [
    "import warnings\n",
    "warnings.filterwarnings('ignore')"
   ]
  },
  {
   "cell_type": "markdown",
   "metadata": {},
   "source": [
    "## Этап 1. Подготовка train и test датасетов  "
   ]
  },
  {
   "cell_type": "code",
   "execution_count": 3,
   "metadata": {},
   "outputs": [],
   "source": [
    "# уменьшение занимаемого объема памяти\n",
    "def reduce_mem_usage(train_data):\n",
    "    \"\"\" Изменение типов данных датасета для уменьшения занимаемого объема памяти.        \n",
    "    \"\"\"\n",
    "    start_mem = train_data.memory_usage().sum() / 1024**2\n",
    "    print('Использование памяти до обработки: {:.2f} MB'.format(start_mem))\n",
    "    \n",
    "    for col in train_data.columns:\n",
    "        col_type = train_data[col].dtype\n",
    "        \n",
    "        if col_type != object:\n",
    "            c_min = train_data[col].min()\n",
    "            c_max = train_data[col].max()\n",
    "            if str(col_type)[:3] == 'int':\n",
    "                if c_min > np.iinfo(np.int8).min and c_max < np.iinfo(np.int8).max:\n",
    "                    train_data[col] = train_data[col].astype(np.int8)\n",
    "                elif c_min > np.iinfo(np.int16).min and c_max < np.iinfo(np.int16).max:\n",
    "                    train_data[col] = train_data[col].astype(np.int16)\n",
    "                elif c_min > np.iinfo(np.int32).min and c_max < np.iinfo(np.int32).max:\n",
    "                    train_data[col] = train_data[col].astype(np.int32)\n",
    "                elif c_min > np.iinfo(np.int64).min and c_max < np.iinfo(np.int64).max:\n",
    "                    train_data[col] = train_data[col].astype(np.int64)  \n",
    "            else:\n",
    "                if c_min > np.finfo(np.float32).min and c_max < np.finfo(np.float32).max:\n",
    "                    train_data[col] = train_data[col].astype(np.float32)\n",
    "                else:\n",
    "                    train_data[col] = train_data[col].astype(np.float64)\n",
    "        else:\n",
    "            train_data[col] = train_data[col].astype('object')\n",
    "\n",
    "    end_mem = train_data.memory_usage().sum() / 1024**2\n",
    "    print('Использование памяти после обработки: {:.2f} MB'.format(end_mem))\n",
    "    print('Уменьшение занимаемого объема на: {:.1f}%'.format(100 * (start_mem - end_mem) / start_mem))\n",
    "    \n",
    "    return train_data"
   ]
  },
  {
   "cell_type": "code",
   "execution_count": 4,
   "metadata": {},
   "outputs": [],
   "source": [
    "train_data = pd.read_csv('data_train.csv', sep=\",\")\n",
    "test_data = pd.read_csv('data_test.csv', sep=\",\")\n",
    "df = dd.read_csv('features.csv', dtype='object', sep=\"\\t\")"
   ]
  },
  {
   "cell_type": "code",
   "execution_count": 5,
   "metadata": {},
   "outputs": [
    {
     "data": {
      "text/plain": [
       "((831653, 5), (71231, 4))"
      ]
     },
     "execution_count": 5,
     "metadata": {},
     "output_type": "execute_result"
    }
   ],
   "source": [
    "train_data.shape, test_data.shape"
   ]
  },
  {
   "cell_type": "code",
   "execution_count": 6,
   "metadata": {},
   "outputs": [
    {
     "data": {
      "text/html": [
       "<div>\n",
       "<style scoped>\n",
       "    .dataframe tbody tr th:only-of-type {\n",
       "        vertical-align: middle;\n",
       "    }\n",
       "\n",
       "    .dataframe tbody tr th {\n",
       "        vertical-align: top;\n",
       "    }\n",
       "\n",
       "    .dataframe thead th {\n",
       "        text-align: right;\n",
       "    }\n",
       "</style>\n",
       "<table border=\"1\" class=\"dataframe\">\n",
       "  <thead>\n",
       "    <tr style=\"text-align: right;\">\n",
       "      <th></th>\n",
       "      <th>Unnamed: 0</th>\n",
       "      <th>id</th>\n",
       "      <th>vas_id</th>\n",
       "      <th>buy_time</th>\n",
       "      <th>target</th>\n",
       "    </tr>\n",
       "  </thead>\n",
       "  <tbody>\n",
       "    <tr>\n",
       "      <th>0</th>\n",
       "      <td>0</td>\n",
       "      <td>540968</td>\n",
       "      <td>8.0</td>\n",
       "      <td>1537131600</td>\n",
       "      <td>0.0</td>\n",
       "    </tr>\n",
       "    <tr>\n",
       "      <th>1</th>\n",
       "      <td>1</td>\n",
       "      <td>1454121</td>\n",
       "      <td>4.0</td>\n",
       "      <td>1531688400</td>\n",
       "      <td>0.0</td>\n",
       "    </tr>\n",
       "    <tr>\n",
       "      <th>2</th>\n",
       "      <td>2</td>\n",
       "      <td>2458816</td>\n",
       "      <td>1.0</td>\n",
       "      <td>1534107600</td>\n",
       "      <td>0.0</td>\n",
       "    </tr>\n",
       "  </tbody>\n",
       "</table>\n",
       "</div>"
      ],
      "text/plain": [
       "   Unnamed: 0       id  vas_id    buy_time  target\n",
       "0           0   540968     8.0  1537131600     0.0\n",
       "1           1  1454121     4.0  1531688400     0.0\n",
       "2           2  2458816     1.0  1534107600     0.0"
      ]
     },
     "execution_count": 6,
     "metadata": {},
     "output_type": "execute_result"
    }
   ],
   "source": [
    "train_data.head(3)"
   ]
  },
  {
   "cell_type": "code",
   "execution_count": 7,
   "metadata": {},
   "outputs": [
    {
     "data": {
      "text/html": [
       "<div>\n",
       "<style scoped>\n",
       "    .dataframe tbody tr th:only-of-type {\n",
       "        vertical-align: middle;\n",
       "    }\n",
       "\n",
       "    .dataframe tbody tr th {\n",
       "        vertical-align: top;\n",
       "    }\n",
       "\n",
       "    .dataframe thead th {\n",
       "        text-align: right;\n",
       "    }\n",
       "</style>\n",
       "<table border=\"1\" class=\"dataframe\">\n",
       "  <thead>\n",
       "    <tr style=\"text-align: right;\">\n",
       "      <th></th>\n",
       "      <th>Unnamed: 0</th>\n",
       "      <th>id</th>\n",
       "      <th>vas_id</th>\n",
       "      <th>buy_time</th>\n",
       "    </tr>\n",
       "  </thead>\n",
       "  <tbody>\n",
       "    <tr>\n",
       "      <th>0</th>\n",
       "      <td>0</td>\n",
       "      <td>3130519</td>\n",
       "      <td>2.0</td>\n",
       "      <td>1548018000</td>\n",
       "    </tr>\n",
       "    <tr>\n",
       "      <th>1</th>\n",
       "      <td>1</td>\n",
       "      <td>2000860</td>\n",
       "      <td>4.0</td>\n",
       "      <td>1548018000</td>\n",
       "    </tr>\n",
       "    <tr>\n",
       "      <th>2</th>\n",
       "      <td>2</td>\n",
       "      <td>1099444</td>\n",
       "      <td>2.0</td>\n",
       "      <td>1546808400</td>\n",
       "    </tr>\n",
       "  </tbody>\n",
       "</table>\n",
       "</div>"
      ],
      "text/plain": [
       "   Unnamed: 0       id  vas_id    buy_time\n",
       "0           0  3130519     2.0  1548018000\n",
       "1           1  2000860     4.0  1548018000\n",
       "2           2  1099444     2.0  1546808400"
      ]
     },
     "execution_count": 7,
     "metadata": {},
     "output_type": "execute_result"
    }
   ],
   "source": [
    "test_data.head(3)"
   ]
  },
  {
   "cell_type": "code",
   "execution_count": 8,
   "metadata": {},
   "outputs": [
    {
     "data": {
      "text/html": [
       "<div>\n",
       "<style scoped>\n",
       "    .dataframe tbody tr th:only-of-type {\n",
       "        vertical-align: middle;\n",
       "    }\n",
       "\n",
       "    .dataframe tbody tr th {\n",
       "        vertical-align: top;\n",
       "    }\n",
       "\n",
       "    .dataframe thead th {\n",
       "        text-align: right;\n",
       "    }\n",
       "</style>\n",
       "<table border=\"1\" class=\"dataframe\">\n",
       "  <thead>\n",
       "    <tr style=\"text-align: right;\">\n",
       "      <th></th>\n",
       "      <th>Unnamed: 0</th>\n",
       "      <th>id</th>\n",
       "      <th>buy_time</th>\n",
       "      <th>0</th>\n",
       "      <th>1</th>\n",
       "      <th>2</th>\n",
       "      <th>3</th>\n",
       "      <th>4</th>\n",
       "      <th>5</th>\n",
       "      <th>6</th>\n",
       "      <th>...</th>\n",
       "      <th>243</th>\n",
       "      <th>244</th>\n",
       "      <th>245</th>\n",
       "      <th>246</th>\n",
       "      <th>247</th>\n",
       "      <th>248</th>\n",
       "      <th>249</th>\n",
       "      <th>250</th>\n",
       "      <th>251</th>\n",
       "      <th>252</th>\n",
       "    </tr>\n",
       "  </thead>\n",
       "  <tbody>\n",
       "    <tr>\n",
       "      <th>0</th>\n",
       "      <td>0</td>\n",
       "      <td>2013026</td>\n",
       "      <td>1531688400</td>\n",
       "      <td>18.91002922530346</td>\n",
       "      <td>46.98088788147152</td>\n",
       "      <td>4.969214041441917</td>\n",
       "      <td>-1.3867982403657493</td>\n",
       "      <td>3.7917537065697497</td>\n",
       "      <td>-14.011789573383396</td>\n",
       "      <td>-16.0861800325671</td>\n",
       "      <td>...</td>\n",
       "      <td>-977.3738461013428</td>\n",
       "      <td>-613.7707921147527</td>\n",
       "      <td>-25.996268610410837</td>\n",
       "      <td>-37.63044838724547</td>\n",
       "      <td>-301.7477236706343</td>\n",
       "      <td>-25.83288857155014</td>\n",
       "      <td>-0.6944284888647783</td>\n",
       "      <td>-12.175933312768366</td>\n",
       "      <td>-0.4561398843397759</td>\n",
       "      <td>0.0</td>\n",
       "    </tr>\n",
       "    <tr>\n",
       "      <th>1</th>\n",
       "      <td>1</td>\n",
       "      <td>2014722</td>\n",
       "      <td>1539550800</td>\n",
       "      <td>36.690029225303476</td>\n",
       "      <td>152.40088788147153</td>\n",
       "      <td>448.0692140414418</td>\n",
       "      <td>563.8332017596342</td>\n",
       "      <td>463.84175370656976</td>\n",
       "      <td>568.9982104266168</td>\n",
       "      <td>-16.0861800325671</td>\n",
       "      <td>...</td>\n",
       "      <td>-891.3738461013428</td>\n",
       "      <td>-544.7707921147527</td>\n",
       "      <td>-20.99626861041084</td>\n",
       "      <td>48.369551612754535</td>\n",
       "      <td>80.2522763293657</td>\n",
       "      <td>-13.832888571550141</td>\n",
       "      <td>-0.6944284888647783</td>\n",
       "      <td>-1.1759333127683649</td>\n",
       "      <td>-0.4561398843397759</td>\n",
       "      <td>0.0</td>\n",
       "    </tr>\n",
       "    <tr>\n",
       "      <th>2</th>\n",
       "      <td>2</td>\n",
       "      <td>2015199</td>\n",
       "      <td>1545598800</td>\n",
       "      <td>-67.01997077469653</td>\n",
       "      <td>157.0508878814715</td>\n",
       "      <td>-63.18078595855808</td>\n",
       "      <td>178.10320175963426</td>\n",
       "      <td>-68.59824629343025</td>\n",
       "      <td>156.9982104266166</td>\n",
       "      <td>3.5138199674329016</td>\n",
       "      <td>...</td>\n",
       "      <td>-977.3738461013428</td>\n",
       "      <td>-613.7707921147527</td>\n",
       "      <td>-12.996268610410835</td>\n",
       "      <td>-37.63044838724547</td>\n",
       "      <td>10829.252276329364</td>\n",
       "      <td>-25.83288857155014</td>\n",
       "      <td>-0.6944284888647783</td>\n",
       "      <td>-12.175933312768366</td>\n",
       "      <td>-0.4561398843397759</td>\n",
       "      <td>0.0</td>\n",
       "    </tr>\n",
       "  </tbody>\n",
       "</table>\n",
       "<p>3 rows × 256 columns</p>\n",
       "</div>"
      ],
      "text/plain": [
       "  Unnamed: 0       id    buy_time                   0                   1  \\\n",
       "0          0  2013026  1531688400   18.91002922530346   46.98088788147152   \n",
       "1          1  2014722  1539550800  36.690029225303476  152.40088788147153   \n",
       "2          2  2015199  1545598800  -67.01997077469653   157.0508878814715   \n",
       "\n",
       "                    2                    3                   4  \\\n",
       "0   4.969214041441917  -1.3867982403657493  3.7917537065697497   \n",
       "1   448.0692140414418    563.8332017596342  463.84175370656976   \n",
       "2  -63.18078595855808   178.10320175963426  -68.59824629343025   \n",
       "\n",
       "                     5                   6  ...                 243  \\\n",
       "0  -14.011789573383396   -16.0861800325671  ...  -977.3738461013428   \n",
       "1    568.9982104266168   -16.0861800325671  ...  -891.3738461013428   \n",
       "2    156.9982104266166  3.5138199674329016  ...  -977.3738461013428   \n",
       "\n",
       "                  244                  245                 246  \\\n",
       "0  -613.7707921147527  -25.996268610410837  -37.63044838724547   \n",
       "1  -544.7707921147527   -20.99626861041084  48.369551612754535   \n",
       "2  -613.7707921147527  -12.996268610410835  -37.63044838724547   \n",
       "\n",
       "                  247                  248                  249  \\\n",
       "0  -301.7477236706343   -25.83288857155014  -0.6944284888647783   \n",
       "1    80.2522763293657  -13.832888571550141  -0.6944284888647783   \n",
       "2  10829.252276329364   -25.83288857155014  -0.6944284888647783   \n",
       "\n",
       "                   250                  251  252  \n",
       "0  -12.175933312768366  -0.4561398843397759  0.0  \n",
       "1  -1.1759333127683649  -0.4561398843397759  0.0  \n",
       "2  -12.175933312768366  -0.4561398843397759  0.0  \n",
       "\n",
       "[3 rows x 256 columns]"
      ]
     },
     "execution_count": 8,
     "metadata": {},
     "output_type": "execute_result"
    }
   ],
   "source": [
    "df.head(3)"
   ]
  },
  {
   "cell_type": "code",
   "execution_count": 9,
   "metadata": {},
   "outputs": [],
   "source": [
    "train_data = train_data.drop(['Unnamed: 0'], axis=1)\n",
    "test_data = test_data.drop(['Unnamed: 0'], axis=1)\n",
    "df = df.drop(['Unnamed: 0'], axis=1)"
   ]
  },
  {
   "cell_type": "code",
   "execution_count": 10,
   "metadata": {},
   "outputs": [
    {
     "data": {
      "text/plain": [
       "id            int64\n",
       "vas_id      float64\n",
       "buy_time      int64\n",
       "target      float64\n",
       "dtype: object"
      ]
     },
     "execution_count": 10,
     "metadata": {},
     "output_type": "execute_result"
    }
   ],
   "source": [
    "train_data.dtypes"
   ]
  },
  {
   "cell_type": "code",
   "execution_count": 11,
   "metadata": {},
   "outputs": [
    {
     "data": {
      "text/plain": [
       "id            int64\n",
       "vas_id      float64\n",
       "buy_time      int64\n",
       "dtype: object"
      ]
     },
     "execution_count": 11,
     "metadata": {},
     "output_type": "execute_result"
    }
   ],
   "source": [
    "test_data.dtypes"
   ]
  },
  {
   "cell_type": "code",
   "execution_count": 12,
   "metadata": {},
   "outputs": [
    {
     "name": "stdout",
     "output_type": "stream",
     "text": [
      "Обрабатываем train_data\n",
      "Использование памяти до обработки: 25.38 MB\n",
      "Использование памяти после обработки: 12.69 MB\n",
      "Уменьшение занимаемого объема на: 50.0%\n",
      "\n",
      "Обрабатываем test_data\n",
      "Использование памяти до обработки: 1.63 MB\n",
      "Использование памяти после обработки: 0.82 MB\n",
      "Уменьшение занимаемого объема на: 50.0%\n"
     ]
    }
   ],
   "source": [
    "#Попробуем уменьшить используемый объем памяти для работы с train_data и test_data\n",
    "print('Обрабатываем train_data')\n",
    "train_data = reduce_mem_usage(train_data)\n",
    "print()\n",
    "print('Обрабатываем test_data')\n",
    "test_data = reduce_mem_usage(test_data)"
   ]
  },
  {
   "cell_type": "code",
   "execution_count": 13,
   "metadata": {},
   "outputs": [
    {
     "data": {
      "text/plain": [
       "id          object\n",
       "buy_time    object\n",
       "0           object\n",
       "1           object\n",
       "2           object\n",
       "             ...  \n",
       "248         object\n",
       "249         object\n",
       "250         object\n",
       "251         object\n",
       "252         object\n",
       "Length: 255, dtype: object"
      ]
     },
     "execution_count": 13,
     "metadata": {},
     "output_type": "execute_result"
    }
   ],
   "source": [
    "df.dtypes"
   ]
  },
  {
   "cell_type": "code",
   "execution_count": 14,
   "metadata": {},
   "outputs": [
    {
     "data": {
      "text/plain": [
       "id          object\n",
       "buy_time    object\n",
       "0           object\n",
       "1           object\n",
       "2           object\n",
       "             ...  \n",
       "248         object\n",
       "249         object\n",
       "250         object\n",
       "251         object\n",
       "252         object\n",
       "Length: 255, dtype: object"
      ]
     },
     "execution_count": 14,
     "metadata": {},
     "output_type": "execute_result"
    }
   ],
   "source": [
    "df.dtypes"
   ]
  },
  {
   "cell_type": "code",
   "execution_count": 15,
   "metadata": {},
   "outputs": [
    {
     "data": {
      "text/plain": [
       "(False, False)"
      ]
     },
     "execution_count": 15,
     "metadata": {},
     "output_type": "execute_result"
    }
   ],
   "source": [
    "#проверим уникальность поля id\n",
    "train_data['id'].is_unique, test_data['id'].is_unique"
   ]
  },
  {
   "cell_type": "code",
   "execution_count": 16,
   "metadata": {},
   "outputs": [
    {
     "name": "stdout",
     "output_type": "stream",
     "text": [
      "уникальных пользователей в train_data: 806613\n",
      "уникальных пользователей в test_data: 70152\n",
      "уникальных пользователей в двух датасетах: 872577\n"
     ]
    }
   ],
   "source": [
    "#выберем всех уникальных пользователей из train и test для того, чтобы выбрать из df только нужные данные\n",
    "unique_users_train = set(train_data['id'].values)\n",
    "unique_users_test = set(test_data['id'].values)\n",
    "unique_users = unique_users_train | unique_users_test \n",
    "print(f'уникальных пользователей в train_data: {len(unique_users_train)}')\n",
    "print(f'уникальных пользователей в test_data: {len(unique_users_test)}')\n",
    "print(f'уникальных пользователей в двух датасетах: {len(unique_users)}')"
   ]
  },
  {
   "cell_type": "code",
   "execution_count": 17,
   "metadata": {},
   "outputs": [
    {
     "data": {
      "text/plain": [
       "352"
      ]
     },
     "execution_count": 17,
     "metadata": {},
     "output_type": "execute_result"
    }
   ],
   "source": [
    "#количество разделов, на которые поделен df\n",
    "df.npartitions"
   ]
  },
  {
   "cell_type": "code",
   "execution_count": 18,
   "metadata": {},
   "outputs": [],
   "source": [
    "df['id'] = df['id'].astype('int')"
   ]
  },
  {
   "cell_type": "code",
   "execution_count": 19,
   "metadata": {},
   "outputs": [
    {
     "name": "stderr",
     "output_type": "stream",
     "text": [
      "100%|████████████████████████████████████████████████████████████████████████████████| 352/352 [21:15<00:00,  3.62s/it]\n"
     ]
    }
   ],
   "source": [
    " df_update = pd.DataFrame()\n",
    "\n",
    "# for part in tqdm(range(0, 3)):\n",
    "for part in tqdm(range(0, df.npartitions)):\n",
    "    df_to_pandas = df.get_partition(part).compute()\n",
    "    df_filter = df_to_pandas['id'].isin(list(unique_users)) \n",
    "    df_part = df_to_pandas[df_filter] \n",
    "    df_update = pd.concat([df_update, df_part], ignore_index=True)"
   ]
  },
  {
   "cell_type": "code",
   "execution_count": 20,
   "metadata": {},
   "outputs": [],
   "source": [
    "columns_df_update_to_int = ['id', 'buy_time']\n",
    "columns_df_update_to_float = df_update.columns.drop(columns_df_update_to_int).tolist()"
   ]
  },
  {
   "cell_type": "code",
   "execution_count": 21,
   "metadata": {},
   "outputs": [],
   "source": [
    "df_update[columns_df_update_to_int] = df_update[columns_df_update_to_int].astype('int')\n",
    "df_update[columns_df_update_to_float] = df_update[columns_df_update_to_float].astype('float')"
   ]
  },
  {
   "cell_type": "code",
   "execution_count": 22,
   "metadata": {},
   "outputs": [
    {
     "name": "stdout",
     "output_type": "stream",
     "text": [
      "Использование памяти до обработки: 1748.71 MB\n",
      "Использование памяти после обработки: 877.80 MB\n",
      "Уменьшение занимаемого объема на: 49.8%\n"
     ]
    }
   ],
   "source": [
    "#уменьшим занимаемый объем памяти у df_update\n",
    "df_update = reduce_mem_usage(df_update)"
   ]
  },
  {
   "cell_type": "code",
   "execution_count": 23,
   "metadata": {},
   "outputs": [
    {
     "data": {
      "text/plain": [
       "id            int32\n",
       "buy_time      int32\n",
       "0           float32\n",
       "1           float32\n",
       "2           float32\n",
       "             ...   \n",
       "248         float32\n",
       "249         float32\n",
       "250         float32\n",
       "251         float32\n",
       "252         float32\n",
       "Length: 255, dtype: object"
      ]
     },
     "execution_count": 23,
     "metadata": {},
     "output_type": "execute_result"
    }
   ],
   "source": [
    "df_update.dtypes"
   ]
  },
  {
   "cell_type": "code",
   "execution_count": 24,
   "metadata": {},
   "outputs": [
    {
     "data": {
      "text/plain": [
       "(902389, 255)"
      ]
     },
     "execution_count": 24,
     "metadata": {},
     "output_type": "execute_result"
    }
   ],
   "source": [
    "df_update.shape"
   ]
  },
  {
   "cell_type": "code",
   "execution_count": 25,
   "metadata": {},
   "outputs": [
    {
     "data": {
      "text/html": [
       "<div>\n",
       "<style scoped>\n",
       "    .dataframe tbody tr th:only-of-type {\n",
       "        vertical-align: middle;\n",
       "    }\n",
       "\n",
       "    .dataframe tbody tr th {\n",
       "        vertical-align: top;\n",
       "    }\n",
       "\n",
       "    .dataframe thead th {\n",
       "        text-align: right;\n",
       "    }\n",
       "</style>\n",
       "<table border=\"1\" class=\"dataframe\">\n",
       "  <thead>\n",
       "    <tr style=\"text-align: right;\">\n",
       "      <th></th>\n",
       "      <th>id</th>\n",
       "      <th>buy_time</th>\n",
       "      <th>0</th>\n",
       "      <th>1</th>\n",
       "      <th>2</th>\n",
       "      <th>3</th>\n",
       "      <th>4</th>\n",
       "      <th>5</th>\n",
       "      <th>6</th>\n",
       "      <th>7</th>\n",
       "      <th>...</th>\n",
       "      <th>243</th>\n",
       "      <th>244</th>\n",
       "      <th>245</th>\n",
       "      <th>246</th>\n",
       "      <th>247</th>\n",
       "      <th>248</th>\n",
       "      <th>249</th>\n",
       "      <th>250</th>\n",
       "      <th>251</th>\n",
       "      <th>252</th>\n",
       "    </tr>\n",
       "  </thead>\n",
       "  <tbody>\n",
       "    <tr>\n",
       "      <th>0</th>\n",
       "      <td>2046132</td>\n",
       "      <td>1534712400</td>\n",
       "      <td>300.820038</td>\n",
       "      <td>1599.480835</td>\n",
       "      <td>286.879211</td>\n",
       "      <td>1585.013184</td>\n",
       "      <td>281.461761</td>\n",
       "      <td>1563.908203</td>\n",
       "      <td>-16.08618</td>\n",
       "      <td>654.013916</td>\n",
       "      <td>...</td>\n",
       "      <td>-977.37384</td>\n",
       "      <td>-613.770813</td>\n",
       "      <td>-25.996269</td>\n",
       "      <td>-35.630447</td>\n",
       "      <td>-295.747711</td>\n",
       "      <td>-17.832888</td>\n",
       "      <td>-0.694429</td>\n",
       "      <td>-4.175933</td>\n",
       "      <td>-0.45614</td>\n",
       "      <td>0.0</td>\n",
       "    </tr>\n",
       "    <tr>\n",
       "      <th>1</th>\n",
       "      <td>2050810</td>\n",
       "      <td>1540760400</td>\n",
       "      <td>-86.209969</td>\n",
       "      <td>91.820885</td>\n",
       "      <td>-84.480789</td>\n",
       "      <td>110.333199</td>\n",
       "      <td>-89.898247</td>\n",
       "      <td>89.228210</td>\n",
       "      <td>-16.08618</td>\n",
       "      <td>-65.076096</td>\n",
       "      <td>...</td>\n",
       "      <td>-977.37384</td>\n",
       "      <td>-613.770813</td>\n",
       "      <td>-23.996269</td>\n",
       "      <td>190.369553</td>\n",
       "      <td>-286.747711</td>\n",
       "      <td>-25.832888</td>\n",
       "      <td>-0.694429</td>\n",
       "      <td>-12.175933</td>\n",
       "      <td>-0.45614</td>\n",
       "      <td>0.0</td>\n",
       "    </tr>\n",
       "  </tbody>\n",
       "</table>\n",
       "<p>2 rows × 255 columns</p>\n",
       "</div>"
      ],
      "text/plain": [
       "        id    buy_time           0            1           2            3  \\\n",
       "0  2046132  1534712400  300.820038  1599.480835  286.879211  1585.013184   \n",
       "1  2050810  1540760400  -86.209969    91.820885  -84.480789   110.333199   \n",
       "\n",
       "            4            5         6           7  ...        243         244  \\\n",
       "0  281.461761  1563.908203 -16.08618  654.013916  ... -977.37384 -613.770813   \n",
       "1  -89.898247    89.228210 -16.08618  -65.076096  ... -977.37384 -613.770813   \n",
       "\n",
       "         245         246         247        248       249        250      251  \\\n",
       "0 -25.996269  -35.630447 -295.747711 -17.832888 -0.694429  -4.175933 -0.45614   \n",
       "1 -23.996269  190.369553 -286.747711 -25.832888 -0.694429 -12.175933 -0.45614   \n",
       "\n",
       "   252  \n",
       "0  0.0  \n",
       "1  0.0  \n",
       "\n",
       "[2 rows x 255 columns]"
      ]
     },
     "execution_count": 25,
     "metadata": {},
     "output_type": "execute_result"
    }
   ],
   "source": [
    "df_update.head(2)"
   ]
  },
  {
   "cell_type": "code",
   "execution_count": 26,
   "metadata": {},
   "outputs": [],
   "source": [
    "#сохраннеие предобработанного df_update\n",
    "df_update.to_csv(\"df_update.csv\", index=None)"
   ]
  },
  {
   "cell_type": "code",
   "execution_count": 27,
   "metadata": {},
   "outputs": [
    {
     "data": {
      "text/html": [
       "<div>\n",
       "<style scoped>\n",
       "    .dataframe tbody tr th:only-of-type {\n",
       "        vertical-align: middle;\n",
       "    }\n",
       "\n",
       "    .dataframe tbody tr th {\n",
       "        vertical-align: top;\n",
       "    }\n",
       "\n",
       "    .dataframe thead th {\n",
       "        text-align: right;\n",
       "    }\n",
       "</style>\n",
       "<table border=\"1\" class=\"dataframe\">\n",
       "  <thead>\n",
       "    <tr style=\"text-align: right;\">\n",
       "      <th></th>\n",
       "      <th>id</th>\n",
       "      <th>vas_id</th>\n",
       "      <th>buy_time</th>\n",
       "      <th>target</th>\n",
       "    </tr>\n",
       "  </thead>\n",
       "  <tbody>\n",
       "    <tr>\n",
       "      <th>0</th>\n",
       "      <td>540968</td>\n",
       "      <td>8.0</td>\n",
       "      <td>1537131600</td>\n",
       "      <td>0.0</td>\n",
       "    </tr>\n",
       "    <tr>\n",
       "      <th>1</th>\n",
       "      <td>1454121</td>\n",
       "      <td>4.0</td>\n",
       "      <td>1531688400</td>\n",
       "      <td>0.0</td>\n",
       "    </tr>\n",
       "  </tbody>\n",
       "</table>\n",
       "</div>"
      ],
      "text/plain": [
       "        id  vas_id    buy_time  target\n",
       "0   540968     8.0  1537131600     0.0\n",
       "1  1454121     4.0  1531688400     0.0"
      ]
     },
     "execution_count": 27,
     "metadata": {},
     "output_type": "execute_result"
    }
   ],
   "source": [
    "train_data.head(2)"
   ]
  },
  {
   "cell_type": "code",
   "execution_count": 28,
   "metadata": {},
   "outputs": [
    {
     "data": {
      "text/html": [
       "<div>\n",
       "<style scoped>\n",
       "    .dataframe tbody tr th:only-of-type {\n",
       "        vertical-align: middle;\n",
       "    }\n",
       "\n",
       "    .dataframe tbody tr th {\n",
       "        vertical-align: top;\n",
       "    }\n",
       "\n",
       "    .dataframe thead th {\n",
       "        text-align: right;\n",
       "    }\n",
       "</style>\n",
       "<table border=\"1\" class=\"dataframe\">\n",
       "  <thead>\n",
       "    <tr style=\"text-align: right;\">\n",
       "      <th></th>\n",
       "      <th>id</th>\n",
       "      <th>vas_id</th>\n",
       "      <th>buy_time</th>\n",
       "    </tr>\n",
       "  </thead>\n",
       "  <tbody>\n",
       "    <tr>\n",
       "      <th>0</th>\n",
       "      <td>3130519</td>\n",
       "      <td>2.0</td>\n",
       "      <td>1548018000</td>\n",
       "    </tr>\n",
       "    <tr>\n",
       "      <th>1</th>\n",
       "      <td>2000860</td>\n",
       "      <td>4.0</td>\n",
       "      <td>1548018000</td>\n",
       "    </tr>\n",
       "  </tbody>\n",
       "</table>\n",
       "</div>"
      ],
      "text/plain": [
       "        id  vas_id    buy_time\n",
       "0  3130519     2.0  1548018000\n",
       "1  2000860     4.0  1548018000"
      ]
     },
     "execution_count": 28,
     "metadata": {},
     "output_type": "execute_result"
    }
   ],
   "source": [
    "test_data.head(2)"
   ]
  },
  {
   "cell_type": "code",
   "execution_count": 29,
   "metadata": {},
   "outputs": [],
   "source": [
    "test_data['target'] = np.nan"
   ]
  },
  {
   "cell_type": "code",
   "execution_count": 30,
   "metadata": {},
   "outputs": [],
   "source": [
    "data = pd.concat([train_data, test_data], ignore_index=True)"
   ]
  },
  {
   "cell_type": "code",
   "execution_count": 31,
   "metadata": {},
   "outputs": [
    {
     "data": {
      "text/plain": [
       "(902884, 4)"
      ]
     },
     "execution_count": 31,
     "metadata": {},
     "output_type": "execute_result"
    }
   ],
   "source": [
    "data.shape"
   ]
  },
  {
   "cell_type": "code",
   "execution_count": 32,
   "metadata": {},
   "outputs": [
    {
     "data": {
      "text/plain": [
       "id            int32\n",
       "vas_id      float32\n",
       "buy_time      int32\n",
       "target      float32\n",
       "dtype: object"
      ]
     },
     "execution_count": 32,
     "metadata": {},
     "output_type": "execute_result"
    }
   ],
   "source": [
    "data.dtypes"
   ]
  },
  {
   "cell_type": "code",
   "execution_count": 33,
   "metadata": {},
   "outputs": [],
   "source": [
    "data = data.sort_values(by=['buy_time'])\n",
    "df_update = df_update.sort_values(by=['buy_time'])"
   ]
  },
  {
   "cell_type": "code",
   "execution_count": 34,
   "metadata": {},
   "outputs": [],
   "source": [
    "data_merge = pd.merge_asof(data, df_update, on=\"buy_time\", by='id', direction=\"nearest\")"
   ]
  },
  {
   "cell_type": "code",
   "execution_count": 35,
   "metadata": {},
   "outputs": [
    {
     "data": {
      "text/plain": [
       "(902884, 257)"
      ]
     },
     "execution_count": 35,
     "metadata": {},
     "output_type": "execute_result"
    }
   ],
   "source": [
    "data_merge.shape"
   ]
  },
  {
   "cell_type": "code",
   "execution_count": 36,
   "metadata": {},
   "outputs": [
    {
     "data": {
      "text/html": [
       "<div>\n",
       "<style scoped>\n",
       "    .dataframe tbody tr th:only-of-type {\n",
       "        vertical-align: middle;\n",
       "    }\n",
       "\n",
       "    .dataframe tbody tr th {\n",
       "        vertical-align: top;\n",
       "    }\n",
       "\n",
       "    .dataframe thead th {\n",
       "        text-align: right;\n",
       "    }\n",
       "</style>\n",
       "<table border=\"1\" class=\"dataframe\">\n",
       "  <thead>\n",
       "    <tr style=\"text-align: right;\">\n",
       "      <th></th>\n",
       "      <th>id</th>\n",
       "      <th>vas_id</th>\n",
       "      <th>buy_time</th>\n",
       "      <th>target</th>\n",
       "      <th>0</th>\n",
       "      <th>1</th>\n",
       "      <th>2</th>\n",
       "      <th>3</th>\n",
       "      <th>4</th>\n",
       "      <th>5</th>\n",
       "      <th>...</th>\n",
       "      <th>243</th>\n",
       "      <th>244</th>\n",
       "      <th>245</th>\n",
       "      <th>246</th>\n",
       "      <th>247</th>\n",
       "      <th>248</th>\n",
       "      <th>249</th>\n",
       "      <th>250</th>\n",
       "      <th>251</th>\n",
       "      <th>252</th>\n",
       "    </tr>\n",
       "  </thead>\n",
       "  <tbody>\n",
       "    <tr>\n",
       "      <th>0</th>\n",
       "      <td>1388074</td>\n",
       "      <td>2.0</td>\n",
       "      <td>1531083600</td>\n",
       "      <td>0.0</td>\n",
       "      <td>551.310059</td>\n",
       "      <td>708.170898</td>\n",
       "      <td>546.259216</td>\n",
       "      <td>695.363220</td>\n",
       "      <td>540.841736</td>\n",
       "      <td>674.258240</td>\n",
       "      <td>...</td>\n",
       "      <td>13.626154</td>\n",
       "      <td>-245.770798</td>\n",
       "      <td>-24.996269</td>\n",
       "      <td>-37.630447</td>\n",
       "      <td>-16.747725</td>\n",
       "      <td>-23.832888</td>\n",
       "      <td>-0.694429</td>\n",
       "      <td>-11.175933</td>\n",
       "      <td>-0.45614</td>\n",
       "      <td>0.0</td>\n",
       "    </tr>\n",
       "    <tr>\n",
       "      <th>1</th>\n",
       "      <td>338913</td>\n",
       "      <td>4.0</td>\n",
       "      <td>1531083600</td>\n",
       "      <td>0.0</td>\n",
       "      <td>-96.799973</td>\n",
       "      <td>100.290886</td>\n",
       "      <td>-100.570786</td>\n",
       "      <td>84.563202</td>\n",
       "      <td>-105.988243</td>\n",
       "      <td>63.458210</td>\n",
       "      <td>...</td>\n",
       "      <td>1787.626099</td>\n",
       "      <td>2063.229248</td>\n",
       "      <td>-25.996269</td>\n",
       "      <td>-17.630449</td>\n",
       "      <td>-256.747711</td>\n",
       "      <td>-25.832888</td>\n",
       "      <td>-0.694429</td>\n",
       "      <td>-12.175933</td>\n",
       "      <td>-0.45614</td>\n",
       "      <td>0.0</td>\n",
       "    </tr>\n",
       "    <tr>\n",
       "      <th>2</th>\n",
       "      <td>1552375</td>\n",
       "      <td>2.0</td>\n",
       "      <td>1531083600</td>\n",
       "      <td>0.0</td>\n",
       "      <td>-26.869970</td>\n",
       "      <td>172.370895</td>\n",
       "      <td>-28.100786</td>\n",
       "      <td>132.473206</td>\n",
       "      <td>-33.518246</td>\n",
       "      <td>111.368210</td>\n",
       "      <td>...</td>\n",
       "      <td>-977.373840</td>\n",
       "      <td>-613.770813</td>\n",
       "      <td>-25.996269</td>\n",
       "      <td>-37.630447</td>\n",
       "      <td>-271.747711</td>\n",
       "      <td>-22.832888</td>\n",
       "      <td>-0.694429</td>\n",
       "      <td>-9.175933</td>\n",
       "      <td>-0.45614</td>\n",
       "      <td>1.0</td>\n",
       "    </tr>\n",
       "    <tr>\n",
       "      <th>3</th>\n",
       "      <td>2516522</td>\n",
       "      <td>2.0</td>\n",
       "      <td>1531083600</td>\n",
       "      <td>1.0</td>\n",
       "      <td>-96.799973</td>\n",
       "      <td>-111.569115</td>\n",
       "      <td>-110.740784</td>\n",
       "      <td>-164.176804</td>\n",
       "      <td>-116.158249</td>\n",
       "      <td>-185.281784</td>\n",
       "      <td>...</td>\n",
       "      <td>-828.373840</td>\n",
       "      <td>-536.770813</td>\n",
       "      <td>-25.996269</td>\n",
       "      <td>-36.630447</td>\n",
       "      <td>-276.747711</td>\n",
       "      <td>-22.832888</td>\n",
       "      <td>-0.694429</td>\n",
       "      <td>-12.175933</td>\n",
       "      <td>-0.45614</td>\n",
       "      <td>1.0</td>\n",
       "    </tr>\n",
       "    <tr>\n",
       "      <th>4</th>\n",
       "      <td>3299896</td>\n",
       "      <td>1.0</td>\n",
       "      <td>1531083600</td>\n",
       "      <td>0.0</td>\n",
       "      <td>39.370029</td>\n",
       "      <td>-129.699112</td>\n",
       "      <td>25.429214</td>\n",
       "      <td>-178.136795</td>\n",
       "      <td>20.011753</td>\n",
       "      <td>-199.241791</td>\n",
       "      <td>...</td>\n",
       "      <td>-745.373840</td>\n",
       "      <td>-613.770813</td>\n",
       "      <td>-24.996269</td>\n",
       "      <td>200.369553</td>\n",
       "      <td>-21.747725</td>\n",
       "      <td>8.167111</td>\n",
       "      <td>-0.694429</td>\n",
       "      <td>-7.175933</td>\n",
       "      <td>-0.45614</td>\n",
       "      <td>0.0</td>\n",
       "    </tr>\n",
       "    <tr>\n",
       "      <th>...</th>\n",
       "      <td>...</td>\n",
       "      <td>...</td>\n",
       "      <td>...</td>\n",
       "      <td>...</td>\n",
       "      <td>...</td>\n",
       "      <td>...</td>\n",
       "      <td>...</td>\n",
       "      <td>...</td>\n",
       "      <td>...</td>\n",
       "      <td>...</td>\n",
       "      <td>...</td>\n",
       "      <td>...</td>\n",
       "      <td>...</td>\n",
       "      <td>...</td>\n",
       "      <td>...</td>\n",
       "      <td>...</td>\n",
       "      <td>...</td>\n",
       "      <td>...</td>\n",
       "      <td>...</td>\n",
       "      <td>...</td>\n",
       "      <td>...</td>\n",
       "    </tr>\n",
       "    <tr>\n",
       "      <th>902879</th>\n",
       "      <td>3145392</td>\n",
       "      <td>6.0</td>\n",
       "      <td>1548018000</td>\n",
       "      <td>NaN</td>\n",
       "      <td>-94.259972</td>\n",
       "      <td>-92.079109</td>\n",
       "      <td>-108.200783</td>\n",
       "      <td>-144.686798</td>\n",
       "      <td>-113.618248</td>\n",
       "      <td>-165.791794</td>\n",
       "      <td>...</td>\n",
       "      <td>-977.373840</td>\n",
       "      <td>-613.770813</td>\n",
       "      <td>-25.996269</td>\n",
       "      <td>-37.630447</td>\n",
       "      <td>-306.747711</td>\n",
       "      <td>-25.832888</td>\n",
       "      <td>-0.694429</td>\n",
       "      <td>-12.175933</td>\n",
       "      <td>-0.45614</td>\n",
       "      <td>0.0</td>\n",
       "    </tr>\n",
       "    <tr>\n",
       "      <th>902880</th>\n",
       "      <td>2452188</td>\n",
       "      <td>2.0</td>\n",
       "      <td>1548018000</td>\n",
       "      <td>NaN</td>\n",
       "      <td>-90.689972</td>\n",
       "      <td>-174.939117</td>\n",
       "      <td>-104.630783</td>\n",
       "      <td>-227.546799</td>\n",
       "      <td>-110.048248</td>\n",
       "      <td>-248.651794</td>\n",
       "      <td>...</td>\n",
       "      <td>-918.373840</td>\n",
       "      <td>-613.770813</td>\n",
       "      <td>-25.996269</td>\n",
       "      <td>-37.630447</td>\n",
       "      <td>-305.747711</td>\n",
       "      <td>-25.832888</td>\n",
       "      <td>-0.694429</td>\n",
       "      <td>-12.175933</td>\n",
       "      <td>-0.45614</td>\n",
       "      <td>0.0</td>\n",
       "    </tr>\n",
       "    <tr>\n",
       "      <th>902881</th>\n",
       "      <td>3145390</td>\n",
       "      <td>2.0</td>\n",
       "      <td>1548018000</td>\n",
       "      <td>NaN</td>\n",
       "      <td>-91.719971</td>\n",
       "      <td>-79.779114</td>\n",
       "      <td>-105.660789</td>\n",
       "      <td>-123.906799</td>\n",
       "      <td>-111.078247</td>\n",
       "      <td>-145.011795</td>\n",
       "      <td>...</td>\n",
       "      <td>-977.373840</td>\n",
       "      <td>-613.770813</td>\n",
       "      <td>-25.996269</td>\n",
       "      <td>-37.630447</td>\n",
       "      <td>-306.747711</td>\n",
       "      <td>-25.832888</td>\n",
       "      <td>-0.694429</td>\n",
       "      <td>-12.175933</td>\n",
       "      <td>-0.45614</td>\n",
       "      <td>0.0</td>\n",
       "    </tr>\n",
       "    <tr>\n",
       "      <th>902882</th>\n",
       "      <td>1447357</td>\n",
       "      <td>6.0</td>\n",
       "      <td>1548018000</td>\n",
       "      <td>NaN</td>\n",
       "      <td>-76.729973</td>\n",
       "      <td>-351.689117</td>\n",
       "      <td>-69.020782</td>\n",
       "      <td>-334.966797</td>\n",
       "      <td>-74.438248</td>\n",
       "      <td>-356.071777</td>\n",
       "      <td>...</td>\n",
       "      <td>-977.373840</td>\n",
       "      <td>-613.770813</td>\n",
       "      <td>-25.996269</td>\n",
       "      <td>-37.630447</td>\n",
       "      <td>-306.747711</td>\n",
       "      <td>-25.832888</td>\n",
       "      <td>-0.694429</td>\n",
       "      <td>-12.175933</td>\n",
       "      <td>-0.45614</td>\n",
       "      <td>0.0</td>\n",
       "    </tr>\n",
       "    <tr>\n",
       "      <th>902883</th>\n",
       "      <td>988236</td>\n",
       "      <td>2.0</td>\n",
       "      <td>1548018000</td>\n",
       "      <td>NaN</td>\n",
       "      <td>-96.799973</td>\n",
       "      <td>68.510887</td>\n",
       "      <td>-110.740784</td>\n",
       "      <td>15.903202</td>\n",
       "      <td>-116.158249</td>\n",
       "      <td>83.768211</td>\n",
       "      <td>...</td>\n",
       "      <td>-976.373840</td>\n",
       "      <td>-613.770813</td>\n",
       "      <td>-25.996269</td>\n",
       "      <td>-31.630449</td>\n",
       "      <td>-265.747711</td>\n",
       "      <td>38.167110</td>\n",
       "      <td>-0.694429</td>\n",
       "      <td>51.824066</td>\n",
       "      <td>-0.45614</td>\n",
       "      <td>0.0</td>\n",
       "    </tr>\n",
       "  </tbody>\n",
       "</table>\n",
       "<p>902884 rows × 257 columns</p>\n",
       "</div>"
      ],
      "text/plain": [
       "             id  vas_id    buy_time  target           0           1  \\\n",
       "0       1388074     2.0  1531083600     0.0  551.310059  708.170898   \n",
       "1        338913     4.0  1531083600     0.0  -96.799973  100.290886   \n",
       "2       1552375     2.0  1531083600     0.0  -26.869970  172.370895   \n",
       "3       2516522     2.0  1531083600     1.0  -96.799973 -111.569115   \n",
       "4       3299896     1.0  1531083600     0.0   39.370029 -129.699112   \n",
       "...         ...     ...         ...     ...         ...         ...   \n",
       "902879  3145392     6.0  1548018000     NaN  -94.259972  -92.079109   \n",
       "902880  2452188     2.0  1548018000     NaN  -90.689972 -174.939117   \n",
       "902881  3145390     2.0  1548018000     NaN  -91.719971  -79.779114   \n",
       "902882  1447357     6.0  1548018000     NaN  -76.729973 -351.689117   \n",
       "902883   988236     2.0  1548018000     NaN  -96.799973   68.510887   \n",
       "\n",
       "                 2           3           4           5  ...          243  \\\n",
       "0       546.259216  695.363220  540.841736  674.258240  ...    13.626154   \n",
       "1      -100.570786   84.563202 -105.988243   63.458210  ...  1787.626099   \n",
       "2       -28.100786  132.473206  -33.518246  111.368210  ...  -977.373840   \n",
       "3      -110.740784 -164.176804 -116.158249 -185.281784  ...  -828.373840   \n",
       "4        25.429214 -178.136795   20.011753 -199.241791  ...  -745.373840   \n",
       "...            ...         ...         ...         ...  ...          ...   \n",
       "902879 -108.200783 -144.686798 -113.618248 -165.791794  ...  -977.373840   \n",
       "902880 -104.630783 -227.546799 -110.048248 -248.651794  ...  -918.373840   \n",
       "902881 -105.660789 -123.906799 -111.078247 -145.011795  ...  -977.373840   \n",
       "902882  -69.020782 -334.966797  -74.438248 -356.071777  ...  -977.373840   \n",
       "902883 -110.740784   15.903202 -116.158249   83.768211  ...  -976.373840   \n",
       "\n",
       "                244        245         246         247        248       249  \\\n",
       "0       -245.770798 -24.996269  -37.630447  -16.747725 -23.832888 -0.694429   \n",
       "1       2063.229248 -25.996269  -17.630449 -256.747711 -25.832888 -0.694429   \n",
       "2       -613.770813 -25.996269  -37.630447 -271.747711 -22.832888 -0.694429   \n",
       "3       -536.770813 -25.996269  -36.630447 -276.747711 -22.832888 -0.694429   \n",
       "4       -613.770813 -24.996269  200.369553  -21.747725   8.167111 -0.694429   \n",
       "...             ...        ...         ...         ...        ...       ...   \n",
       "902879  -613.770813 -25.996269  -37.630447 -306.747711 -25.832888 -0.694429   \n",
       "902880  -613.770813 -25.996269  -37.630447 -305.747711 -25.832888 -0.694429   \n",
       "902881  -613.770813 -25.996269  -37.630447 -306.747711 -25.832888 -0.694429   \n",
       "902882  -613.770813 -25.996269  -37.630447 -306.747711 -25.832888 -0.694429   \n",
       "902883  -613.770813 -25.996269  -31.630449 -265.747711  38.167110 -0.694429   \n",
       "\n",
       "              250      251  252  \n",
       "0      -11.175933 -0.45614  0.0  \n",
       "1      -12.175933 -0.45614  0.0  \n",
       "2       -9.175933 -0.45614  1.0  \n",
       "3      -12.175933 -0.45614  1.0  \n",
       "4       -7.175933 -0.45614  0.0  \n",
       "...           ...      ...  ...  \n",
       "902879 -12.175933 -0.45614  0.0  \n",
       "902880 -12.175933 -0.45614  0.0  \n",
       "902881 -12.175933 -0.45614  0.0  \n",
       "902882 -12.175933 -0.45614  0.0  \n",
       "902883  51.824066 -0.45614  0.0  \n",
       "\n",
       "[902884 rows x 257 columns]"
      ]
     },
     "execution_count": 36,
     "metadata": {},
     "output_type": "execute_result"
    }
   ],
   "source": [
    "#объединенный датасет \n",
    "data_merge"
   ]
  },
  {
   "cell_type": "code",
   "execution_count": 37,
   "metadata": {},
   "outputs": [],
   "source": [
    "train_df = data_merge.loc[~data_merge['target'].isna()]\n",
    "test_df = data_merge.loc[data_merge['target'].isna()]\n",
    "test_df = test_df.drop('target', axis=1)"
   ]
  },
  {
   "cell_type": "code",
   "execution_count": 38,
   "metadata": {},
   "outputs": [],
   "source": [
    "# для удобства поменяем порядок столбцов в датафрейме\n",
    "train_df = train_df.reindex(columns=['id','vas_id','buy_time','0','1','2','3','4','5','6','7','8','9','10','11','12','13','14','15','16','17','18','19','20','21','22','23','24','25','26','27','28','29','30','31','32','33','34','35','36','37','38','39','40','41','42','43','44','45','46','47','48','49','50','51','52','53','54','55','56','57','58','59','60','61','62','63','64','65','66','67','68','69','70','71','72','73','74','75','76','77','78','79','80','81','82','83','84','85','86','87','88','89','90','91','92','93','94','95','96','97','98','99','100','101','102','103','104','105','106','107','108','109','110','111','112','113','114','115','116','117','118','119','120','121','122','123','124','125','126','127','128','129','130','131','132','133','134','135','136','137','138','139','140','141','142','143','144','145','146','147','148','149','150','151','152','153','154','155','156','157','158','159','160','161','162','163','164','165','166','167','168','169','170','171','172','173','174','175','176','177','178','179','180','181','182','183','184','185','186','187','188','189','190','191','192','193','194','195','196','197','198','199','200','201','202','203','204','205','206','207','208','209','210','211','212','213','214','215','216','217','218','219','220','221','222','223','224','225','226','227','228','229','230','231','232','233','234','235','236','237','238','239','240','241','242','243','244','245','246','247','248','249','250','251','252','target'])"
   ]
  },
  {
   "cell_type": "code",
   "execution_count": 39,
   "metadata": {},
   "outputs": [],
   "source": [
    "# #сохраним два новых предобработанных датасета\n",
    "train_df.to_csv(\"train_df.csv\", index=None)\n",
    "test_df.to_csv(\"test_df.csv\", index=None)"
   ]
  },
  {
   "cell_type": "markdown",
   "metadata": {},
   "source": [
    "Этап подготовки датасета для дальнейшего анализа данных закончен. Переходим к EDA и построениею Baseline."
   ]
  }
 ],
 "metadata": {
  "kernelspec": {
   "display_name": "Python 3 (ipykernel)",
   "language": "python",
   "name": "python3"
  },
  "language_info": {
   "codemirror_mode": {
    "name": "ipython",
    "version": 3
   },
   "file_extension": ".py",
   "mimetype": "text/x-python",
   "name": "python",
   "nbconvert_exporter": "python",
   "pygments_lexer": "ipython3",
   "version": "3.9.7"
  },
  "widgets": {
   "application/vnd.jupyter.widget-state+json": {
    "state": {},
    "version_major": 2,
    "version_minor": 0
   }
  }
 },
 "nbformat": 4,
 "nbformat_minor": 4
}
